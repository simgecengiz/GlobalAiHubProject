{
 "cells": [
  {
   "cell_type": "code",
   "execution_count": 67,
   "id": "bea6d665",
   "metadata": {},
   "outputs": [],
   "source": [
    "import pandas as pd\n",
    "import tensorflow as tf"
   ]
  },
  {
   "cell_type": "code",
   "execution_count": 68,
   "id": "c39e6fb0",
   "metadata": {},
   "outputs": [],
   "source": [
    "import numpy as np\n"
   ]
  },
  {
   "cell_type": "code",
   "execution_count": 69,
   "id": "f82b25b4",
   "metadata": {},
   "outputs": [],
   "source": [
    "import matplotlib.pyplot as plt"
   ]
  },
  {
   "cell_type": "code",
   "execution_count": 70,
   "id": "505d51c4",
   "metadata": {},
   "outputs": [],
   "source": [
    "from sklearn.model_selection import train_test_split"
   ]
  },
  {
   "cell_type": "code",
   "execution_count": 71,
   "id": "35aa61c9",
   "metadata": {},
   "outputs": [],
   "source": [
    "import os"
   ]
  },
  {
   "cell_type": "code",
   "execution_count": 72,
   "id": "cb6a9551",
   "metadata": {},
   "outputs": [],
   "source": [
    "import cv2"
   ]
  },
  {
   "cell_type": "code",
   "execution_count": 73,
   "id": "74c5905a",
   "metadata": {},
   "outputs": [],
   "source": [
    "img_path = \"C:/Users/Simge/Downloads/spectrograms/\""
   ]
  },
  {
   "cell_type": "code",
   "execution_count": 74,
   "id": "d244cd72",
   "metadata": {},
   "outputs": [],
   "source": [
    "folder_list = ['0','1','2','3','4','5','6','7','8','9']"
   ]
  },
  {
   "cell_type": "code",
   "execution_count": 75,
   "id": "7d106b24",
   "metadata": {},
   "outputs": [],
   "source": [
    "classes = [\"air_conditioner\",\"car_horn\",\"children_playing\",\"dog_bark\",\"drilling\",\"engine_idling\",\n",
    "           \"gun_shot\",\"jackhammer\",\"siren\",\"street_music\"]"
   ]
  },
  {
   "cell_type": "code",
   "execution_count": 76,
   "id": "413c6dd1",
   "metadata": {},
   "outputs": [],
   "source": [
    "# creating list format image,class\n",
    "img_files_list=[]\n",
    "\n",
    "for folder in folder_list:\n",
    "    for img_file in os.listdir(img_path+folder):\n",
    "        image=img_path+folder+\"/\"+img_file\n",
    "        img_files_list.append([image,classes[int(folder)]])\n",
    "        \n",
    "df=pd.DataFrame(img_files_list,columns=[\"img\",\"label\"])\n",
    "\n",
    "# Create a dataframe for mapping label\n",
    "df_labels = {\n",
    "    'air_conditioner' : 0,\n",
    "    'car_horn' : 1,\n",
    "    'children_playing' : 2,\n",
    "    'dog_bark' : 3,\n",
    "    'drilling': 4,\n",
    "    'engine_idling':5,\n",
    "    'gun_shot':6,\n",
    "    'jackhammer':7,\n",
    "    'siren':8,\n",
    "    'street_music':9,\n",
    "    \n",
    "}\n",
    "\n",
    "# Encode\n",
    "df['label_code'] = df['label'].map(df_labels)"
   ]
  },
  {
   "cell_type": "code",
   "execution_count": 77,
   "id": "48efc75a",
   "metadata": {
    "scrolled": true
   },
   "outputs": [
    {
     "data": {
      "text/plain": [
       "air_conditioner     1000\n",
       "children_playing    1000\n",
       "dog_bark            1000\n",
       "drilling            1000\n",
       "engine_idling       1000\n",
       "jackhammer          1000\n",
       "street_music        1000\n",
       "siren                929\n",
       "car_horn             429\n",
       "gun_shot             374\n",
       "Name: label, dtype: int64"
      ]
     },
     "execution_count": 77,
     "metadata": {},
     "output_type": "execute_result"
    }
   ],
   "source": [
    "df['label'].value_counts()"
   ]
  },
  {
   "cell_type": "code",
   "execution_count": 78,
   "id": "5fc5715e",
   "metadata": {},
   "outputs": [
    {
     "name": "stdout",
     "output_type": "stream",
     "text": [
      "(8732, 3)\n"
     ]
    }
   ],
   "source": [
    "print(df.shape)"
   ]
  },
  {
   "cell_type": "code",
   "execution_count": 79,
   "id": "70896c9d",
   "metadata": {},
   "outputs": [
    {
     "data": {
      "text/html": [
       "<div>\n",
       "<style scoped>\n",
       "    .dataframe tbody tr th:only-of-type {\n",
       "        vertical-align: middle;\n",
       "    }\n",
       "\n",
       "    .dataframe tbody tr th {\n",
       "        vertical-align: top;\n",
       "    }\n",
       "\n",
       "    .dataframe thead th {\n",
       "        text-align: right;\n",
       "    }\n",
       "</style>\n",
       "<table border=\"1\" class=\"dataframe\">\n",
       "  <thead>\n",
       "    <tr style=\"text-align: right;\">\n",
       "      <th></th>\n",
       "      <th>img</th>\n",
       "      <th>label</th>\n",
       "      <th>label_code</th>\n",
       "    </tr>\n",
       "  </thead>\n",
       "  <tbody>\n",
       "    <tr>\n",
       "      <th>0</th>\n",
       "      <td>C:/Users/Simge/Downloads/spectrograms/0/100852...</td>\n",
       "      <td>air_conditioner</td>\n",
       "      <td>0</td>\n",
       "    </tr>\n",
       "    <tr>\n",
       "      <th>1</th>\n",
       "      <td>C:/Users/Simge/Downloads/spectrograms/0/100852...</td>\n",
       "      <td>air_conditioner</td>\n",
       "      <td>0</td>\n",
       "    </tr>\n",
       "    <tr>\n",
       "      <th>2</th>\n",
       "      <td>C:/Users/Simge/Downloads/spectrograms/0/100852...</td>\n",
       "      <td>air_conditioner</td>\n",
       "      <td>0</td>\n",
       "    </tr>\n",
       "    <tr>\n",
       "      <th>3</th>\n",
       "      <td>C:/Users/Simge/Downloads/spectrograms/0/100852...</td>\n",
       "      <td>air_conditioner</td>\n",
       "      <td>0</td>\n",
       "    </tr>\n",
       "    <tr>\n",
       "      <th>4</th>\n",
       "      <td>C:/Users/Simge/Downloads/spectrograms/0/100852...</td>\n",
       "      <td>air_conditioner</td>\n",
       "      <td>0</td>\n",
       "    </tr>\n",
       "  </tbody>\n",
       "</table>\n",
       "</div>"
      ],
      "text/plain": [
       "                                                 img            label  \\\n",
       "0  C:/Users/Simge/Downloads/spectrograms/0/100852...  air_conditioner   \n",
       "1  C:/Users/Simge/Downloads/spectrograms/0/100852...  air_conditioner   \n",
       "2  C:/Users/Simge/Downloads/spectrograms/0/100852...  air_conditioner   \n",
       "3  C:/Users/Simge/Downloads/spectrograms/0/100852...  air_conditioner   \n",
       "4  C:/Users/Simge/Downloads/spectrograms/0/100852...  air_conditioner   \n",
       "\n",
       "   label_code  \n",
       "0           0  \n",
       "1           0  \n",
       "2           0  \n",
       "3           0  \n",
       "4           0  "
      ]
     },
     "execution_count": 79,
     "metadata": {},
     "output_type": "execute_result"
    }
   ],
   "source": [
    "df.head()"
   ]
  },
  {
   "cell_type": "code",
   "execution_count": 81,
   "id": "b60e73bd",
   "metadata": {},
   "outputs": [
    {
     "name": "stdout",
     "output_type": "stream",
     "text": [
      "(6549, 37, 37)\n",
      "(1637, 37, 37)\n",
      "(546, 37, 37)\n",
      "(6549,)\n",
      "(1637,)\n",
      "(546,)\n",
      "Epoch 1/50\n",
      "52/52 [==============================] - 7s 108ms/step - loss: 2.1441 - accuracy: 0.1990 - val_loss: 1.8234 - val_accuracy: 0.3700\n",
      "Epoch 2/50\n",
      "52/52 [==============================] - 6s 109ms/step - loss: 1.8430 - accuracy: 0.3181 - val_loss: 1.4733 - val_accuracy: 0.4652\n",
      "Epoch 3/50\n",
      "52/52 [==============================] - 6s 111ms/step - loss: 1.6330 - accuracy: 0.4077 - val_loss: 1.3127 - val_accuracy: 0.5238\n",
      "Epoch 4/50\n",
      "52/52 [==============================] - 6s 113ms/step - loss: 1.4941 - accuracy: 0.4680 - val_loss: 1.2225 - val_accuracy: 0.6300\n",
      "Epoch 5/50\n",
      "52/52 [==============================] - 6s 115ms/step - loss: 1.3726 - accuracy: 0.5143 - val_loss: 1.1169 - val_accuracy: 0.6593\n",
      "Epoch 6/50\n",
      "52/52 [==============================] - 6s 113ms/step - loss: 1.2980 - accuracy: 0.5476 - val_loss: 1.0653 - val_accuracy: 0.6465\n",
      "Epoch 7/50\n",
      "52/52 [==============================] - 6s 117ms/step - loss: 1.2122 - accuracy: 0.5749 - val_loss: 0.9812 - val_accuracy: 0.6886\n",
      "Epoch 8/50\n",
      "52/52 [==============================] - 5s 105ms/step - loss: 1.1714 - accuracy: 0.5986 - val_loss: 0.9345 - val_accuracy: 0.6996\n",
      "Epoch 9/50\n",
      "52/52 [==============================] - 5s 104ms/step - loss: 1.0977 - accuracy: 0.6302 - val_loss: 0.8702 - val_accuracy: 0.7179\n",
      "Epoch 10/50\n",
      "52/52 [==============================] - 6s 113ms/step - loss: 1.0494 - accuracy: 0.6355 - val_loss: 0.8402 - val_accuracy: 0.7399\n",
      "Epoch 11/50\n",
      "52/52 [==============================] - 6s 110ms/step - loss: 1.0084 - accuracy: 0.6654 - val_loss: 0.7833 - val_accuracy: 0.7564\n",
      "Epoch 12/50\n",
      "52/52 [==============================] - 6s 109ms/step - loss: 0.9748 - accuracy: 0.6709 - val_loss: 0.7509 - val_accuracy: 0.7711\n",
      "Epoch 13/50\n",
      "52/52 [==============================] - 5s 104ms/step - loss: 0.9141 - accuracy: 0.6943 - val_loss: 0.6925 - val_accuracy: 0.7949\n",
      "Epoch 14/50\n",
      "52/52 [==============================] - 5s 100ms/step - loss: 0.8840 - accuracy: 0.7062 - val_loss: 0.6991 - val_accuracy: 0.7821\n",
      "Epoch 15/50\n",
      "52/52 [==============================] - 5s 104ms/step - loss: 0.8695 - accuracy: 0.7111 - val_loss: 0.7591 - val_accuracy: 0.7564\n",
      "Epoch 16/50\n",
      "52/52 [==============================] - 5s 104ms/step - loss: 0.8294 - accuracy: 0.7245 - val_loss: 0.6712 - val_accuracy: 0.7784\n",
      "Epoch 17/50\n",
      "52/52 [==============================] - 5s 101ms/step - loss: 0.7874 - accuracy: 0.7445 - val_loss: 0.6230 - val_accuracy: 0.8095\n",
      "Epoch 18/50\n",
      "52/52 [==============================] - 5s 104ms/step - loss: 0.7602 - accuracy: 0.7522 - val_loss: 0.5983 - val_accuracy: 0.8205\n",
      "Epoch 19/50\n",
      "52/52 [==============================] - 5s 104ms/step - loss: 0.7366 - accuracy: 0.7598 - val_loss: 0.5950 - val_accuracy: 0.8114\n",
      "Epoch 20/50\n",
      "52/52 [==============================] - 5s 100ms/step - loss: 0.7065 - accuracy: 0.7642 - val_loss: 0.5679 - val_accuracy: 0.8205\n",
      "Epoch 21/50\n",
      "52/52 [==============================] - 5s 104ms/step - loss: 0.6607 - accuracy: 0.7801 - val_loss: 0.6082 - val_accuracy: 0.7930\n",
      "Epoch 22/50\n",
      "52/52 [==============================] - 5s 105ms/step - loss: 0.6947 - accuracy: 0.7765 - val_loss: 0.5882 - val_accuracy: 0.8278\n",
      "Epoch 23/50\n",
      "52/52 [==============================] - 5s 101ms/step - loss: 0.6365 - accuracy: 0.7911 - val_loss: 0.5507 - val_accuracy: 0.8352\n",
      "Epoch 24/50\n",
      "52/52 [==============================] - 5s 105ms/step - loss: 0.6302 - accuracy: 0.7986 - val_loss: 0.5939 - val_accuracy: 0.8150\n",
      "Epoch 25/50\n",
      "52/52 [==============================] - 5s 104ms/step - loss: 0.5981 - accuracy: 0.8058 - val_loss: 0.5298 - val_accuracy: 0.8425\n",
      "Epoch 26/50\n",
      "52/52 [==============================] - 5s 102ms/step - loss: 0.6061 - accuracy: 0.7948 - val_loss: 0.5449 - val_accuracy: 0.8315\n",
      "Epoch 27/50\n",
      "52/52 [==============================] - 5s 105ms/step - loss: 0.5494 - accuracy: 0.8168 - val_loss: 0.5516 - val_accuracy: 0.8462\n",
      "Epoch 28/50\n",
      "52/52 [==============================] - 5s 105ms/step - loss: 0.5607 - accuracy: 0.8142 - val_loss: 0.4669 - val_accuracy: 0.8480\n",
      "Epoch 29/50\n",
      "52/52 [==============================] - 5s 102ms/step - loss: 0.5308 - accuracy: 0.8337 - val_loss: 0.5014 - val_accuracy: 0.8480\n",
      "Epoch 30/50\n",
      "52/52 [==============================] - 5s 104ms/step - loss: 0.5133 - accuracy: 0.8296 - val_loss: 0.4781 - val_accuracy: 0.8590\n",
      "Epoch 31/50\n",
      "52/52 [==============================] - 5s 104ms/step - loss: 0.5032 - accuracy: 0.8412 - val_loss: 0.4636 - val_accuracy: 0.8645\n",
      "Epoch 32/50\n",
      "52/52 [==============================] - 5s 102ms/step - loss: 0.4930 - accuracy: 0.8447 - val_loss: 0.4733 - val_accuracy: 0.8553\n",
      "Epoch 33/50\n",
      "52/52 [==============================] - 5s 106ms/step - loss: 0.4515 - accuracy: 0.8575 - val_loss: 0.4874 - val_accuracy: 0.8571\n",
      "Epoch 34/50\n",
      "52/52 [==============================] - 6s 108ms/step - loss: 0.4384 - accuracy: 0.8581 - val_loss: 0.4824 - val_accuracy: 0.8498\n",
      "Epoch 35/50\n",
      "52/52 [==============================] - 5s 103ms/step - loss: 0.4391 - accuracy: 0.8556 - val_loss: 0.5021 - val_accuracy: 0.8443\n",
      "Epoch 36/50\n",
      "52/52 [==============================] - 5s 105ms/step - loss: 0.4326 - accuracy: 0.8537 - val_loss: 0.5589 - val_accuracy: 0.8205\n",
      "Epoch 37/50\n",
      "52/52 [==============================] - 5s 103ms/step - loss: 0.4304 - accuracy: 0.8606 - val_loss: 0.4945 - val_accuracy: 0.8443\n",
      "Epoch 38/50\n",
      "52/52 [==============================] - 5s 101ms/step - loss: 0.4043 - accuracy: 0.8649 - val_loss: 0.4754 - val_accuracy: 0.8608\n",
      "Epoch 39/50\n",
      "52/52 [==============================] - 5s 106ms/step - loss: 0.4449 - accuracy: 0.8536 - val_loss: 0.5688 - val_accuracy: 0.8333\n",
      "Epoch 40/50\n",
      "52/52 [==============================] - 5s 104ms/step - loss: 0.4214 - accuracy: 0.8627 - val_loss: 0.4732 - val_accuracy: 0.8590\n",
      "Epoch 41/50\n",
      "52/52 [==============================] - 5s 102ms/step - loss: 0.3847 - accuracy: 0.8740 - val_loss: 0.5022 - val_accuracy: 0.8516\n",
      "Epoch 42/50\n",
      "52/52 [==============================] - 5s 103ms/step - loss: 0.3632 - accuracy: 0.8774 - val_loss: 0.4667 - val_accuracy: 0.8645\n",
      "Epoch 43/50\n",
      "52/52 [==============================] - 5s 103ms/step - loss: 0.3659 - accuracy: 0.8791 - val_loss: 0.4561 - val_accuracy: 0.8718\n",
      "Epoch 44/50\n",
      "52/52 [==============================] - 5s 102ms/step - loss: 0.3591 - accuracy: 0.8826 - val_loss: 0.4746 - val_accuracy: 0.8608\n",
      "Epoch 45/50\n",
      "52/52 [==============================] - 5s 104ms/step - loss: 0.3436 - accuracy: 0.8833 - val_loss: 0.5108 - val_accuracy: 0.8663\n",
      "Epoch 46/50\n",
      "52/52 [==============================] - 5s 103ms/step - loss: 0.3406 - accuracy: 0.8847 - val_loss: 0.4907 - val_accuracy: 0.8553\n",
      "Epoch 47/50\n",
      "52/52 [==============================] - 5s 104ms/step - loss: 0.3195 - accuracy: 0.8911 - val_loss: 0.5280 - val_accuracy: 0.8553\n",
      "Epoch 48/50\n",
      "52/52 [==============================] - 5s 104ms/step - loss: 0.3427 - accuracy: 0.8859 - val_loss: 0.4944 - val_accuracy: 0.8663\n",
      "Epoch 49/50\n",
      "52/52 [==============================] - 5s 102ms/step - loss: 0.3217 - accuracy: 0.8923 - val_loss: 0.4666 - val_accuracy: 0.8626\n",
      "Epoch 50/50\n",
      "52/52 [==============================] - 5s 102ms/step - loss: 0.3083 - accuracy: 0.8953 - val_loss: 0.4431 - val_accuracy: 0.8663\n"
     ]
    }
   ],
   "source": [
    "# Prepare a model training dataset\n",
    "# we need to use opencv\n",
    "X = []\n",
    "\n",
    "dim = (37, 37)\n",
    "for img in df[\"img\"]:\n",
    "    \n",
    "    # plt.imread is used to read an image from a file into an array\n",
    "    #grayscaling\n",
    "    img=cv2.imread(str(img),cv2.IMREAD_GRAYSCALE)\n",
    "    \n",
    "    # resizing\n",
    "    img = cv2.resize(img, dim)\n",
    "    \n",
    "    # normalization\n",
    "    img = img / 255\n",
    "    X.append(img)\n",
    "\n",
    "y = df[\"label_code\"]\n",
    "\n",
    "#Train/Validation/Test split\n",
    "#80-10-10\n",
    "X_train, X_test_val, y_train, y_test_val = train_test_split(X, y)\n",
    "X_test, X_val, y_test, y_val = train_test_split(X_test_val, y_test_val)\n",
    "\n",
    "\n",
    "\n",
    "X_train = np.array(X_train)\n",
    "X_test = np.array(X_test)\n",
    "X_val = np.array(X_val)\n",
    "y_train = np.array(y_train)\n",
    "y_test = np.array(y_test)\n",
    "y_val = np.array(y_val)\n",
    "\n",
    "print(X_train.shape)\n",
    "print(X_test.shape)\n",
    "print(X_val.shape)\n",
    "print(y_train.shape)\n",
    "print(y_test.shape)\n",
    "print(y_val.shape)\n",
    "\n",
    "X_train = X_train.reshape(-1,37,37,1)\n",
    "X_test = X_test.reshape(-1,37,37,1)\n",
    "X_val = X_val.reshape(-1,37,37,1)\n",
    "y_train = y_train.reshape(-1,)\n",
    "y_test = y_test.reshape(-1,)\n",
    "y_val = y_val.reshape(-1,)\n",
    "\n",
    "\n",
    "#Use tf.keras.Sequential() to create a model object\n",
    "model = tf.keras.Sequential()\n",
    "\n",
    "\n",
    "model.add(tf.keras.layers.Conv2D(32,\n",
    "                       kernel_size=(3,3),\n",
    "                       strides=(1,1),\n",
    "                       padding=\"same\",\n",
    "                       activation=\"relu\",\n",
    "                       input_shape=(37,37,1)))\n",
    "model.add(tf.keras.layers.MaxPooling2D((2,2)))\n",
    "model.add(tf.keras.layers.Conv2D(64,\n",
    "                        kernel_size=(3,3),\n",
    "                       strides=(1,1),\n",
    "                       padding=\"same\",\n",
    "                       activation=\"relu\",))\n",
    "model.add(tf.keras.layers.MaxPooling2D((2,2)))\n",
    "model.add(tf.keras.layers.Conv2D(32,\n",
    "                       kernel_size=(3,3),\n",
    "                       strides=(1,1),\n",
    "                       padding=\"same\",\n",
    "                       activation=\"relu\",))\n",
    "\n",
    "\n",
    "model.add(tf.keras.layers.Flatten())\n",
    "\n",
    "model.add(tf.keras.layers.Dense(64,activation=\"relu\"))\n",
    "model.add(tf.keras.layers.Dropout(0.5))\n",
    "model.add(tf.keras.layers.Dense(64,activation=\"relu\"))\n",
    "model.add(tf.keras.layers.Dropout(0.5))\n",
    "model.add(tf.keras.layers.Dense(10,activation=\"softmax\"))\n",
    "model.compile(optimizer=\"adam\",\n",
    "             loss=\"sparse_categorical_crossentropy\",\n",
    "             metrics=[\"accuracy\"])\n",
    "X_train=tf.stack(X_train)\n",
    "y_train=tf.stack(y_train)\n",
    "X_val=tf.stack(X_val)\n",
    "y_val=tf.stack(y_val)\n",
    "results=model.fit(X_train,y_train,\n",
    "                 batch_size=128,\n",
    "                 epochs=50,validation_data=(X_val,y_val))"
   ]
  },
  {
   "cell_type": "code",
   "execution_count": 82,
   "id": "86b56809",
   "metadata": {},
   "outputs": [
    {
     "data": {
      "image/png": "[encoded data removed]",
      "text/plain": [
       "<Figure size 432x288 with 1 Axes>"
      ]
     },
     "metadata": {
      "needs_background": "light"
     },
     "output_type": "display_data"
    }
   ],
   "source": [
    "plt.plot(results.history[\"loss\"],label=\"loss\")\n",
    "plt.plot(results.history[\"val_loss\"],label=\"val_loss\")\n",
    "plt.xlabel(\"Epoch\")\n",
    "plt.ylabel(\"Loss\")\n",
    "plt.legend()\n",
    "plt.show()"
   ]
  },
  {
   "cell_type": "code",
   "execution_count": 83,
   "id": "7ac8ab46",
   "metadata": {},
   "outputs": [
    {
     "data": {
      "image/png": "[encoded data removed]",
      "text/plain": [
       "<Figure size 432x288 with 1 Axes>"
      ]
     },
     "metadata": {
      "needs_background": "light"
     },
     "output_type": "display_data"
    }
   ],
   "source": [
    "plt.plot(results.history[\"accuracy\"],label=\"accuracy\")\n",
    "plt.plot(results.history[\"val_accuracy\"],label=\"val_accuracy\")\n",
    "plt.xlabel(\"Epoch\")\n",
    "plt.ylabel(\"Loss\")\n",
    "plt.legend()\n",
    "plt.show()"
   ]
  },
  {
   "cell_type": "code",
   "execution_count": 84,
   "id": "191e626e",
   "metadata": {},
   "outputs": [
    {
     "name": "stdout",
     "output_type": "stream",
     "text": [
      "52/52 [==============================] - 1s 11ms/step - loss: 0.5177 - accuracy: 0.8595\n"
     ]
    },
    {
     "data": {
      "text/plain": [
       "[0.51772540807724, 0.8594990968704224]"
      ]
     },
     "execution_count": 84,
     "metadata": {},
     "output_type": "execute_result"
    }
   ],
   "source": [
    "X_test=tf.stack(X_test)\n",
    "y_test=tf.stack(y_test)\n",
    "model.evaluate(X_test,y_test)"
   ]
  },
  {
   "cell_type": "code",
   "execution_count": null,
   "id": "fa92cf7e",
   "metadata": {},
   "outputs": [],
   "source": []
  }
 ],
 "metadata": {
  "kernelspec": {
   "display_name": "Python 3 (ipykernel)",
   "language": "python",
   "name": "python3"
  },
  "language_info": {
   "codemirror_mode": {
    "name": "ipython",
    "version": 3
   },
   "file_extension": ".py",
   "mimetype": "text/x-python",
   "name": "python",
   "nbconvert_exporter": "python",
   "pygments_lexer": "ipython3",
   "version": "3.9.12"
  }
 },
 "nbformat": 4,
 "nbformat_minor": 5
}
